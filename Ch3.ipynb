{
 "cells": [
  {
   "cell_type": "code",
   "execution_count": 21,
   "id": "e276cc34-db17-4ae7-8a21-4ac52928de6c",
   "metadata": {},
   "outputs": [
    {
     "name": "stdout",
     "output_type": "stream",
     "text": [
      "Seconds in an hour:  3600\n",
      "Seconds per day:  86400\n",
      "24.0\n",
      "24\n",
      "yes\n"
     ]
    }
   ],
   "source": [
    "sec_min = 60\n",
    "sec_hour = 60\n",
    "seconds = sec_min * sec_hour\n",
    "print(\"Seconds in an hour: \", seconds)\n",
    "\n",
    "seconds_per_hour = seconds\n",
    "\n",
    "sec_day = seconds_per_hour * 24\n",
    "print(\"Seconds per day: \", sec_day)\n",
    "\n",
    "seconds_per_day = sec_day\n",
    "\n",
    "answer3_5 = seconds_per_day / seconds_per_hour\n",
    "print(answer3_5)\n",
    "\n",
    "answer3_6 = seconds_per_day // seconds_per_hour\n",
    "print(answer3_6)\n",
    "\n",
    "print(\"yes\")\n"
   ]
  }
 ],
 "metadata": {
  "kernelspec": {
   "display_name": "Python [conda env:base] *",
   "language": "python",
   "name": "conda-base-py"
  },
  "language_info": {
   "codemirror_mode": {
    "name": "ipython",
    "version": 3
   },
   "file_extension": ".py",
   "mimetype": "text/x-python",
   "name": "python",
   "nbconvert_exporter": "python",
   "pygments_lexer": "ipython3",
   "version": "3.12.7"
  }
 },
 "nbformat": 4,
 "nbformat_minor": 5
}
