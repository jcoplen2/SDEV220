{
 "cells": [
  {
   "cell_type": "code",
   "execution_count": 9,
   "id": "065b638c-5b78-4ca9-ac74-4d514f95f93d",
   "metadata": {},
   "outputs": [
    {
     "name": "stdout",
     "output_type": "stream",
     "text": [
      "too high\n"
     ]
    }
   ],
   "source": [
    "secret = 3\n",
    "guess = 7\n",
    "if guess < secret:\n",
    "    print(\"too low\")\n",
    "elif guess > secret:\n",
    "    print(\"too high\")\n",
    "elif guess == secret:\n",
    "    print(\"just right\")\n"
   ]
  },
  {
   "cell_type": "code",
   "execution_count": 19,
   "id": "92521759-46e0-4fb9-b7e3-05cac2f667f4",
   "metadata": {},
   "outputs": [
    {
     "name": "stdout",
     "output_type": "stream",
     "text": [
      "cherry\n"
     ]
    }
   ],
   "source": [
    "small = True\n",
    "green = False\n",
    "if small:\n",
    "    if green:\n",
    "        print(\"pea\")\n",
    "    else:\n",
    "        print(\"cherry\")\n",
    "else:\n",
    "    if green:\n",
    "        print(\"watermelon\")\n",
    "    else:\n",
    "        print(\"pumpkin\")\n",
    "    \n"
   ]
  },
  {
   "cell_type": "code",
   "execution_count": 21,
   "id": "f89219ef-cd1b-4faf-8d05-b75d060ab922",
   "metadata": {},
   "outputs": [
    {
     "name": "stdout",
     "output_type": "stream",
     "text": [
      "3\n",
      "2\n",
      "1\n",
      "0\n"
     ]
    }
   ],
   "source": [
    "numbers = [3,2,1,0]\n",
    "for number in numbers:\n",
    "    print(number)"
   ]
  },
  {
   "cell_type": "code",
   "execution_count": 41,
   "id": "b0a07c02-828b-4f02-9eca-51f7050bcdf1",
   "metadata": {},
   "outputs": [
    {
     "name": "stdout",
     "output_type": "stream",
     "text": [
      "too low\n",
      "too low\n",
      "too low\n",
      "too low\n",
      "too low\n",
      "too low\n",
      "found it!\n",
      "oops\n"
     ]
    }
   ],
   "source": [
    "guess_me = 7\n",
    "number = 1\n",
    "while number <= guess_me:\n",
    "    if number < guess_me:\n",
    "        print(\"too low\")\n",
    "    elif number == guess_me:\n",
    "        print(\"found it!\")\n",
    "    number += 1\n",
    "else:\n",
    "    print(\"oops\")"
   ]
  },
  {
   "cell_type": "code",
   "execution_count": 43,
   "id": "dbeac476-68de-4520-99d5-7f1c617e88ed",
   "metadata": {},
   "outputs": [
    {
     "name": "stdout",
     "output_type": "stream",
     "text": [
      "too low\n",
      "too low\n",
      "too low\n",
      "too low\n",
      "too low\n",
      "found it!\n",
      "oops\n"
     ]
    }
   ],
   "source": [
    "guess_me = 5\n",
    "for number in range(10):\n",
    "    if number < guess_me:\n",
    "        print(\"too low\")\n",
    "    elif number == guess_me:\n",
    "        print(\"found it!\")\n",
    "else:\n",
    "    print(\"oops\")"
   ]
  },
  {
   "cell_type": "code",
   "execution_count": null,
   "id": "e1749c30-bbb8-4b46-93e3-6cbc9f6f5dcc",
   "metadata": {},
   "outputs": [],
   "source": []
  }
 ],
 "metadata": {
  "kernelspec": {
   "display_name": "Python [conda env:base] *",
   "language": "python",
   "name": "conda-base-py"
  },
  "language_info": {
   "codemirror_mode": {
    "name": "ipython",
    "version": 3
   },
   "file_extension": ".py",
   "mimetype": "text/x-python",
   "name": "python",
   "nbconvert_exporter": "python",
   "pygments_lexer": "ipython3",
   "version": "3.12.7"
  }
 },
 "nbformat": 4,
 "nbformat_minor": 5
}
