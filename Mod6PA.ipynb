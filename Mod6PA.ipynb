{
 "cells": [
  {
   "cell_type": "code",
   "execution_count": 1,
   "id": "34430263-8797-44cc-b9ac-3d191820b4db",
   "metadata": {},
   "outputs": [
    {
     "name": "stdout",
     "output_type": "stream",
     "text": [
      "Completed\n"
     ]
    }
   ],
   "source": [
    "#get today's date\n",
    "from datetime import date\n",
    "now = date.today().strftime('%Y-%m-%d')\n",
    "\n",
    "#write text to a text file\n",
    "with open('today.txt', 'w') as file:\n",
    "    file.write(now)\n",
    "\n",
    "print('Completed')\n"
   ]
  },
  {
   "cell_type": "code",
   "execution_count": 3,
   "id": "8404a3c9-2b4a-4dc0-b91e-a8c187889a17",
   "metadata": {},
   "outputs": [
    {
     "name": "stdout",
     "output_type": "stream",
     "text": [
      "Date: 2025-02-19\n"
     ]
    }
   ],
   "source": [
    "#read file into string\n",
    "with open('today.txt', 'r') as file:\n",
    "    today_string = file.read()\n",
    "\n",
    "print('Date:', today_string)\n",
    "    "
   ]
  },
  {
   "cell_type": "code",
   "execution_count": 17,
   "id": "51457f2b-eb24-448a-8e55-9f35a8e8beb7",
   "metadata": {},
   "outputs": [
    {
     "name": "stdout",
     "output_type": "stream",
     "text": [
      "The date is:  2025-02-19\n"
     ]
    }
   ],
   "source": [
    "from datetime import datetime\n",
    "\n",
    "#parse the date from string\n",
    "with open('today.txt', 'r') as file:\n",
    "    today_string = file.read()\n",
    "\n",
    "fmt = '%Y-%m-%d'\n",
    "parse_date = datetime.strptime(today_string, fmt).date()\n",
    "\n",
    "print('The date is: ', parse_date)"
   ]
  },
  {
   "cell_type": "code",
   "execution_count": 29,
   "id": "d66488e6-7627-485e-b2ad-24a74f8936e6",
   "metadata": {},
   "outputs": [],
   "source": [
    "import multiprocessing\n",
    "import time\n",
    "import random\n",
    "from datetime import datetime\n",
    "\n",
    "#get random number between 0-1, print current time for process\n",
    "def current_time():\n",
    "    rand_seconds = random.uniform(0,1)\n",
    "    time.sleep(rand_seconds)\n",
    "    print(f\"{multiprocessing.current_process().name} - Time: {datetime.now().time()}\")\n",
    "\n",
    "#create three separate processes\n",
    "if __name__ == \"__main__\":\n",
    "    processes = [multiprocessing.Process(target = current_time, name = f\"Process-{count + 1}\") for count in range(3)] \n",
    "\n",
    "#start processes\n",
    "    for process in processes:\n",
    "        process.start()\n",
    "\n",
    "    for process in processes:\n",
    "        process.join()\n",
    "\n",
    "\n",
    "#output from vscode:\n",
    "#Process-3 - Time: 19:47:46.401403\n",
    "#Process-2 - Time: 19:47:46.550269\n",
    "#Process-1 - Time: 19:47:46.652061\n",
    "\n"
   ]
  },
  {
   "cell_type": "code",
   "execution_count": null,
   "id": "a4e3db5d-c43a-4a83-8c19-3d22ced2c8ef",
   "metadata": {},
   "outputs": [],
   "source": []
  }
 ],
 "metadata": {
  "kernelspec": {
   "display_name": "Python [conda env:base] *",
   "language": "python",
   "name": "conda-base-py"
  },
  "language_info": {
   "codemirror_mode": {
    "name": "ipython",
    "version": 3
   },
   "file_extension": ".py",
   "mimetype": "text/x-python",
   "name": "python",
   "nbconvert_exporter": "python",
   "pygments_lexer": "ipython3",
   "version": "3.12.7"
  }
 },
 "nbformat": 4,
 "nbformat_minor": 5
}
